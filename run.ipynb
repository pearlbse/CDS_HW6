{
 "cells": [
  {
   "cell_type": "code",
   "execution_count": 24,
   "metadata": {},
   "outputs": [
    {
     "name": "stderr",
     "output_type": "stream",
     "text": [
      "/home/djtom/bse/.venv/lib/python3.8/site-packages/classfunc/meanfill.py:25: FutureWarning: The default value of numeric_only in DataFrame.mean is deprecated. In a future version, it will default to False. In addition, specifying 'numeric_only=None' is deprecated. Select only valid columns or specify the value of numeric_only to silence this warning.\n",
      "  self.df.loc[:,cols].fillna(self.df.mean().iloc[0],inplace=True)\n",
      "/home/djtom/bse/.venv/lib/python3.8/site-packages/classfunc/meanfill.py:25: FutureWarning: The default value of numeric_only in DataFrame.mean is deprecated. In a future version, it will default to False. In addition, specifying 'numeric_only=None' is deprecated. Select only valid columns or specify the value of numeric_only to silence this warning.\n",
      "  self.df.loc[:,cols].fillna(self.df.mean().iloc[0],inplace=True)\n"
     ]
    },
    {
     "ename": "NameError",
     "evalue": "name 'log_transform' is not defined",
     "output_type": "error",
     "traceback": [
      "\u001b[0;31m---------------------------------------------------------------------------\u001b[0m",
      "\u001b[0;31mNameError\u001b[0m                                 Traceback (most recent call last)",
      "Cell \u001b[0;32mIn [24], line 18\u001b[0m\n\u001b[1;32m     15\u001b[0m train_meanfill\u001b[39m=\u001b[39mfill_nan(train_dropna\u001b[39m.\u001b[39mcleaned_df,meancols)\n\u001b[1;32m     16\u001b[0m test_meanfill\u001b[39m=\u001b[39mfill_nan(test_dropna\u001b[39m.\u001b[39mcleaned_df,meancols)\n\u001b[0;32m---> 18\u001b[0m train_log\u001b[39m=\u001b[39mlog_transform(train_meanfill,meancols)\n\u001b[1;32m     19\u001b[0m train_log\u001b[39m.\u001b[39mapply_transform()\n\u001b[1;32m     20\u001b[0m test_log\u001b[39m=\u001b[39mlog_transform(test_meanfill,meancols)\n",
      "\u001b[0;31mNameError\u001b[0m: name 'log_transform' is not defined"
     ]
    }
   ],
   "source": [
    "'''\n",
    "This script reads a .csv file and generates the Compute Area Under the\n",
    "Receiver Operating Characteristic Curve (ROC AUC) results from prediction scores.\n",
    "'''\n",
    "\n",
    "from classfunc import *\n",
    "\n",
    "data_dir = 'sample_diabetes_mellitus_data.csv'\n",
    "data=load_and_split(data_dir)\n",
    "nancols=['age','gender','ethnicity']\n",
    "meancols=['height','weight']\n",
    "train_dropna=remove_nan(data.Train,nancols)\n",
    "test_dropna=remove_nan(data.Test,nancols)\n",
    "\n",
    "train_meanfill=fill_nan(train_dropna.cleaned_df,meancols)\n",
    "test_meanfill=fill_nan(test_dropna.cleaned_df,meancols)\n",
    "\n",
    "train_log=log_transform(train_meanfill,meancols)\n",
    "train_log.apply_transform()\n",
    "test_log=log_transform(test_meanfill,meancols)\n",
    "test_log.apply_transform()\n",
    "# read dataframe\n",
    "# df = read_data(data_dir)\n",
    "\n",
    "# # clean dataframe\n",
    "# print('CLEANING...')\n",
    "# df_cleaned = drop_nan(df, ['age', 'gender', 'ethnicity'])\n",
    "# df_cleaned = fill_nan(df_cleaned, ['height', 'weight'])\n",
    "\n",
    "# # create one hot encoding and binary dummies\n",
    "# print('CREATING DUMMIES...')\n",
    "# df_cleaned_ohe = gen_ohe(df_cleaned, ['ethnicity'])\n",
    "# df_cleaned_ohe_bin = gen_binary(df_cleaned_ohe, ['gender'])\n",
    "\n",
    "# # train RandomForestClassifier model\n",
    "# print('TRAINING...')\n",
    "# feature_cols = ['age', 'height', 'weight', 'aids', 'cirrhosis', 'hepatic_failure', 'immunosuppression', 'leukemia', 'lymphoma', 'solid_tumor_with_metastasis']\n",
    "# target_cols = ['diabetes_mellitus']\n",
    "# results = train_model(df_cleaned_ohe_bin, feature_cols, target_cols)\n",
    "\n",
    "# # get roc_auc score for train and test sets\n",
    "# print('SCORING...')\n",
    "# scores = get_roc_auc_score(results)\n",
    "\n",
    "# # display results\n",
    "# print('Train test scores : {}'.format(scores[0]))\n",
    "# print('Test test scores : {} \\nMODEL COMPLETE'.format(scores[1]))\n"
   ]
  },
  {
   "cell_type": "code",
   "execution_count": 25,
   "metadata": {},
   "outputs": [
    {
     "ename": "NameError",
     "evalue": "name 'log_transform' is not defined",
     "output_type": "error",
     "traceback": [
      "\u001b[0;31m---------------------------------------------------------------------------\u001b[0m",
      "\u001b[0;31mNameError\u001b[0m                                 Traceback (most recent call last)",
      "Cell \u001b[0;32mIn [25], line 1\u001b[0m\n\u001b[0;32m----> 1\u001b[0m \u001b[39mdir\u001b[39m(log_transform)\n",
      "\u001b[0;31mNameError\u001b[0m: name 'log_transform' is not defined"
     ]
    }
   ],
   "source": [
    "dir(log_transform)"
   ]
  },
  {
   "cell_type": "code",
   "execution_count": null,
   "metadata": {},
   "outputs": [],
   "source": []
  }
 ],
 "metadata": {
  "kernelspec": {
   "display_name": "Python 3.8.10 ('.venv': venv)",
   "language": "python",
   "name": "python3"
  },
  "language_info": {
   "codemirror_mode": {
    "name": "ipython",
    "version": 3
   },
   "file_extension": ".py",
   "mimetype": "text/x-python",
   "name": "python",
   "nbconvert_exporter": "python",
   "pygments_lexer": "ipython3",
   "version": "3.8.10"
  },
  "vscode": {
   "interpreter": {
    "hash": "b6f49ba85018e89f7c54b5771786c8d00e0df137ba03b00f974b4a2e33dcc7e6"
   }
  }
 },
 "nbformat": 4,
 "nbformat_minor": 4
}
