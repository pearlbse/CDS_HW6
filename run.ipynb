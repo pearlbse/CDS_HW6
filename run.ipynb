{
 "cells": [
  {
   "cell_type": "code",
   "execution_count": 5,
   "metadata": {},
   "outputs": [
    {
     "name": "stdout",
     "output_type": "stream",
     "text": [
      "      height  weight\n",
      "8942  184.20  149.00\n",
      "8299  180.30  115.00\n",
      "9037  175.30   87.20\n",
      "8279  182.88   81.64\n",
      "8163  160.00  112.70\n",
      "...      ...     ...\n",
      "8641  170.20  158.00\n",
      "9119  157.48  109.60\n",
      "9225  160.02  111.00\n",
      "9553  157.48   86.80\n",
      "9088  172.70   77.10\n",
      "\n",
      "[161 rows x 2 columns]\n"
     ]
    },
    {
     "name": "stderr",
     "output_type": "stream",
     "text": [
      "/home/djtom/bse/.venv/lib/python3.8/site-packages/classfunc/meanfill.py:25: FutureWarning: The default value of numeric_only in DataFrame.mean is deprecated. In a future version, it will default to False. In addition, specifying 'numeric_only=None' is deprecated. Select only valid columns or specify the value of numeric_only to silence this warning.\n",
      "  self.df.loc[:,cols].fillna(self.df.mean().iloc[0],inplace=True)\n",
      "/home/djtom/bse/.venv/lib/python3.8/site-packages/classfunc/meanfill.py:25: FutureWarning: The default value of numeric_only in DataFrame.mean is deprecated. In a future version, it will default to False. In addition, specifying 'numeric_only=None' is deprecated. Select only valid columns or specify the value of numeric_only to silence this warning.\n",
      "  self.df.loc[:,cols].fillna(self.df.mean().iloc[0],inplace=True)\n",
      "/home/djtom/bse/.venv/lib/python3.8/site-packages/classfunc/transf.py:19: SettingWithCopyWarning: \n",
      "A value is trying to be set on a copy of a slice from a DataFrame.\n",
      "Try using .loc[row_indexer,col_indexer] = value instead\n",
      "\n",
      "See the caveats in the documentation: https://pandas.pydata.org/pandas-docs/stable/user_guide/indexing.html#returning-a-view-versus-a-copy\n",
      "  self.df.loc[:,self.cols]=self.df.loc[:,self.cols].apply(lambda x: np.log(x))\n",
      "/home/djtom/bse/.venv/lib/python3.8/site-packages/classfunc/transf.py:19: SettingWithCopyWarning: \n",
      "A value is trying to be set on a copy of a slice from a DataFrame.\n",
      "Try using .loc[row_indexer,col_indexer] = value instead\n",
      "\n",
      "See the caveats in the documentation: https://pandas.pydata.org/pandas-docs/stable/user_guide/indexing.html#returning-a-view-versus-a-copy\n",
      "  self.df.loc[:,self.cols]=self.df.loc[:,self.cols].apply(lambda x: np.log(x))\n"
     ]
    },
    {
     "data": {
      "text/plain": [
       "array([[1.        , 0.        ],\n",
       "       [0.74444444, 0.25555556],\n",
       "       [1.        , 0.        ],\n",
       "       [1.        , 0.        ],\n",
       "       [0.86666667, 0.13333333],\n",
       "       [0.86666667, 0.13333333],\n",
       "       [0.91111111, 0.08888889],\n",
       "       [1.        , 0.        ],\n",
       "       [1.        , 0.        ],\n",
       "       [0.58888889, 0.41111111],\n",
       "       [0.91111111, 0.08888889],\n",
       "       [1.        , 0.        ],\n",
       "       [0.86666667, 0.13333333],\n",
       "       [0.91666667, 0.08333333],\n",
       "       [0.46666667, 0.53333333],\n",
       "       [1.        , 0.        ],\n",
       "       [1.        , 0.        ],\n",
       "       [1.        , 0.        ],\n",
       "       [0.93333333, 0.06666667],\n",
       "       [1.        , 0.        ],\n",
       "       [1.        , 0.        ],\n",
       "       [1.        , 0.        ],\n",
       "       [1.        , 0.        ],\n",
       "       [0.96666667, 0.03333333],\n",
       "       [1.        , 0.        ],\n",
       "       [1.        , 0.        ],\n",
       "       [0.35714286, 0.64285714],\n",
       "       [1.        , 0.        ],\n",
       "       [1.        , 0.        ],\n",
       "       [1.        , 0.        ],\n",
       "       [1.        , 0.        ],\n",
       "       [1.        , 0.        ],\n",
       "       [1.        , 0.        ],\n",
       "       [0.93333333, 0.06666667],\n",
       "       [1.        , 0.        ],\n",
       "       [1.        , 0.        ],\n",
       "       [1.        , 0.        ],\n",
       "       [1.        , 0.        ],\n",
       "       [0.76666667, 0.23333333],\n",
       "       [1.        , 0.        ],\n",
       "       [1.        , 0.        ],\n",
       "       [1.        , 0.        ],\n",
       "       [1.        , 0.        ],\n",
       "       [1.        , 0.        ],\n",
       "       [1.        , 0.        ],\n",
       "       [0.93333333, 0.06666667],\n",
       "       [0.93333333, 0.06666667],\n",
       "       [1.        , 0.        ],\n",
       "       [1.        , 0.        ],\n",
       "       [1.        , 0.        ],\n",
       "       [0.93333333, 0.06666667],\n",
       "       [1.        , 0.        ],\n",
       "       [0.93333333, 0.06666667],\n",
       "       [1.        , 0.        ],\n",
       "       [1.        , 0.        ],\n",
       "       [0.73333333, 0.26666667],\n",
       "       [0.95555556, 0.04444444],\n",
       "       [0.65714286, 0.34285714],\n",
       "       [1.        , 0.        ],\n",
       "       [0.66666667, 0.33333333],\n",
       "       [1.        , 0.        ],\n",
       "       [1.        , 0.        ],\n",
       "       [1.        , 0.        ],\n",
       "       [1.        , 0.        ]])"
      ]
     },
     "execution_count": 5,
     "metadata": {},
     "output_type": "execute_result"
    }
   ],
   "source": [
    "'''\n",
    "This script reads a .csv file and generates the Compute Area Under the\n",
    "Receiver Operating Characteristic Curve (ROC AUC) results from prediction scores.\n",
    "'''\n",
    "\n",
    "from classfunc import *\n",
    "\n",
    "data_dir = 'sample_diabetes_mellitus_data.csv'\n",
    "data=load_and_split(data_dir)\n",
    "nancols=['age','gender','ethnicity']\n",
    "meancols=['height','weight']\n",
    "target1='diabetes_mellitus'\n",
    "train_dropna=remove_nan(data.Train,[x for x in data.Train.columns if x!=target1])\n",
    "test_dropna=remove_nan(data.Test,[x for x in data.Test.columns if x!=target1])\n",
    "\n",
    "train_meanfill=fill_nan(train_dropna.cleaned_df,meancols)\n",
    "test_meanfill=fill_nan(test_dropna.cleaned_df,meancols)\n",
    "print(train_meanfill.df[['height','weight']])\n",
    "train_log= log_transform(train_meanfill.df,meancols)\n",
    "train_log.apply_transform()\n",
    "test_log=log_transform(test_meanfill.df,meancols)\n",
    "test_log.apply_transform()\n",
    "train_log.df[['height','weight']]\n",
    "\n",
    "rf = RandomForestClassifier()\n",
    "hyperparams = {\n",
    "    'max_depth': 9,\n",
    "    'n_estimators': 15,\n",
    "    'min_samples_split': 3,\n",
    "    'random_state': 0\n",
    "}\n",
    "ourmod=model(train_log.df,rf,meancols,'diabetes_mellitus',hyperparams)\n",
    "y_pred=ourmod.predict(test_log.df)\n",
    "y_pred\n",
    "\n",
    "\n",
    "# read dataframe\n",
    "# df = read_data(data_dir)\n",
    "\n",
    "# # clean dataframe\n",
    "# print('CLEANING...')\n",
    "# df_cleaned = drop_nan(df, ['age', 'gender', 'ethnicity'])\n",
    "# df_cleaned = fill_nan(df_cleaned, ['height', 'weight'])\n",
    "\n",
    "# # create one hot encoding and binary dummies\n",
    "# print('CREATING DUMMIES...')\n",
    "# df_cleaned_ohe = gen_ohe(df_cleaned, ['ethnicity'])\n",
    "# df_cleaned_ohe_bin = gen_binary(df_cleaned_ohe, ['gender'])\n",
    "\n",
    "# # train RandomForestClassifier model\n",
    "# print('TRAINING...')\n",
    "# feature_cols = ['age', 'height', 'weight', 'aids', 'cirrhosis', 'hepatic_failure', 'immunosuppression', 'leukemia', 'lymphoma', 'solid_tumor_with_metastasis']\n",
    "# target_cols = ['diabetes_mellitus']\n",
    "# results = train_model(df_cleaned_ohe_bin, feature_cols, target_cols)\n",
    "\n",
    "# # get roc_auc score for train and test sets\n",
    "# print('SCORING...')\n",
    "# scores = get_roc_auc_score(results)\n",
    "\n",
    "# # display results\n",
    "# print('Train test scores : {}'.format(scores[0]))\n",
    "# print('Test test scores : {} \\nMODEL COMPLETE'.format(scores[1]))\n"
   ]
  },
  {
   "cell_type": "code",
   "execution_count": null,
   "metadata": {},
   "outputs": [
    {
     "name": "stdout",
     "output_type": "stream",
     "text": [
      "Help on class log_transform in module classfunc.transf:\n",
      "\n",
      "class log_transform(feature_transform)\n",
      " |  log_transform(df, cols: list) -> None\n",
      " |  \n",
      " |  Helper class that provides a standard way to create an ABC using\n",
      " |  inheritance.\n",
      " |  \n",
      " |  Method resolution order:\n",
      " |      log_transform\n",
      " |      feature_transform\n",
      " |      abc.ABC\n",
      " |      builtins.object\n",
      " |  \n",
      " |  Methods defined here:\n",
      " |  \n",
      " |  __init__(self, df, cols: list) -> None\n",
      " |      Initialize self.  See help(type(self)) for accurate signature.\n",
      " |  \n",
      " |  apply_transform(self)\n",
      " |  \n",
      " |  ----------------------------------------------------------------------\n",
      " |  Data and other attributes defined here:\n",
      " |  \n",
      " |  __abstractmethods__ = frozenset()\n",
      " |  \n",
      " |  ----------------------------------------------------------------------\n",
      " |  Data descriptors inherited from feature_transform:\n",
      " |  \n",
      " |  __dict__\n",
      " |      dictionary for instance variables (if defined)\n",
      " |  \n",
      " |  __weakref__\n",
      " |      list of weak references to the object (if defined)\n",
      "\n"
     ]
    }
   ],
   "source": [
    "from classfunc import *\n",
    "import pkgutil\n",
    "a=[name for _, name, _ in pkgutil.iter_modules(['classfunc'])]\n",
    "help(log_transform)\n",
    "# classfunc.log_transf"
   ]
  },
  {
   "cell_type": "code",
   "execution_count": null,
   "metadata": {},
   "outputs": [
    {
     "ename": "NameError",
     "evalue": "name 'classfunc' is not defined",
     "output_type": "error",
     "traceback": [
      "\u001b[0;31m---------------------------------------------------------------------------\u001b[0m",
      "\u001b[0;31mNameError\u001b[0m                                 Traceback (most recent call last)",
      "Cell \u001b[0;32mIn [2], line 1\u001b[0m\n\u001b[0;32m----> 1\u001b[0m \u001b[39mdir\u001b[39m(classfunc)\n",
      "\u001b[0;31mNameError\u001b[0m: name 'classfunc' is not defined"
     ]
    }
   ],
   "source": [
    "dir(classfunc)"
   ]
  },
  {
   "cell_type": "code",
   "execution_count": null,
   "metadata": {},
   "outputs": [],
   "source": []
  }
 ],
 "metadata": {
  "kernelspec": {
   "display_name": "Python 3.8.10 ('.venv': venv)",
   "language": "python",
   "name": "python3"
  },
  "language_info": {
   "codemirror_mode": {
    "name": "ipython",
    "version": 3
   },
   "file_extension": ".py",
   "mimetype": "text/x-python",
   "name": "python",
   "nbconvert_exporter": "python",
   "pygments_lexer": "ipython3",
   "version": "3.8.10"
  },
  "vscode": {
   "interpreter": {
    "hash": "b6f49ba85018e89f7c54b5771786c8d00e0df137ba03b00f974b4a2e33dcc7e6"
   }
  }
 },
 "nbformat": 4,
 "nbformat_minor": 4
}
