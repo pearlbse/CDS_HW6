{
 "cells": [
  {
   "cell_type": "code",
   "execution_count": 1,
   "metadata": {},
   "outputs": [
    {
     "ename": "ModuleNotFoundError",
     "evalue": "No module named 'hw6lib'",
     "output_type": "error",
     "traceback": [
      "\u001b[0;31m---------------------------------------------------------------------------\u001b[0m",
      "\u001b[0;31mModuleNotFoundError\u001b[0m                       Traceback (most recent call last)",
      "Cell \u001b[0;32mIn [1], line 6\u001b[0m\n\u001b[1;32m      1\u001b[0m \u001b[39m'''\u001b[39;00m\n\u001b[1;32m      2\u001b[0m \u001b[39mThis script reads a .csv file and generates the Compute Area Under the\u001b[39;00m\n\u001b[1;32m      3\u001b[0m \u001b[39mReceiver Operating Characteristic Curve (ROC AUC) results from prediction scores.\u001b[39;00m\n\u001b[1;32m      4\u001b[0m \u001b[39m'''\u001b[39;00m\n\u001b[0;32m----> 6\u001b[0m \u001b[39mfrom\u001b[39;00m \u001b[39mhw6lib\u001b[39;00m \u001b[39mimport\u001b[39;00m \u001b[39m*\u001b[39m\n\u001b[1;32m      8\u001b[0m data_dir \u001b[39m=\u001b[39m \u001b[39m'\u001b[39m\u001b[39msample_diabetes_mellitus_data.csv\u001b[39m\u001b[39m'\u001b[39m\n\u001b[1;32m     10\u001b[0m \u001b[39m# read dataframe\u001b[39;00m\n",
      "\u001b[0;31mModuleNotFoundError\u001b[0m: No module named 'hw6lib'"
     ]
    }
   ],
   "source": [
    "'''\n",
    "This script reads a .csv file and generates the Compute Area Under the\n",
    "Receiver Operating Characteristic Curve (ROC AUC) results from prediction scores.\n",
    "'''\n",
    "\n",
    "from hw6lib import *\n",
    "\n",
    "data_dir = 'sample_diabetes_mellitus_data.csv'\n",
    "\n",
    "# read dataframe\n",
    "df = read_data(data_dir)\n",
    "\n",
    "# clean dataframe\n",
    "print('CLEANING...')\n",
    "df_cleaned = drop_nan(df, ['age', 'gender', 'ethnicity'])\n",
    "df_cleaned = fill_nan(df_cleaned, ['height', 'weight'])\n",
    "\n",
    "# create one hot encoding and binary dummies\n",
    "print('CREATING DUMMIES...')\n",
    "df_cleaned_ohe = gen_ohe(df_cleaned, ['ethnicity'])\n",
    "df_cleaned_ohe_bin = gen_binary(df_cleaned_ohe, ['gender'])\n",
    "\n",
    "# train RandomForestClassifier model\n",
    "print('TRAINING...')\n",
    "feature_cols = ['age', 'height', 'weight', 'aids', 'cirrhosis', 'hepatic_failure', 'immunosuppression', 'leukemia', 'lymphoma', 'solid_tumor_with_metastasis']\n",
    "target_cols = ['diabetes_mellitus']\n",
    "results = train_model(df_cleaned_ohe_bin, feature_cols, target_cols)\n",
    "\n",
    "# get roc_auc score for train and test sets\n",
    "print('SCORING...')\n",
    "scores = get_roc_auc_score(results)\n",
    "\n",
    "# display results\n",
    "print('Train test scores : {}'.format(scores[0]))\n",
    "print('Test test scores : {} \\nMODEL COMPLETE'.format(scores[1]))\n"
   ]
  },
  {
   "cell_type": "code",
   "execution_count": null,
   "metadata": {},
   "outputs": [],
   "source": []
  }
 ],
 "metadata": {
  "kernelspec": {
   "display_name": "Python 3.8.10 ('.venv': venv)",
   "language": "python",
   "name": "python3"
  },
  "language_info": {
   "codemirror_mode": {
    "name": "ipython",
    "version": 3
   },
   "file_extension": ".py",
   "mimetype": "text/x-python",
   "name": "python",
   "nbconvert_exporter": "python",
   "pygments_lexer": "ipython3",
   "version": "3.8.10"
  },
  "vscode": {
   "interpreter": {
    "hash": "b6f49ba85018e89f7c54b5771786c8d00e0df137ba03b00f974b4a2e33dcc7e6"
   }
  }
 },
 "nbformat": 4,
 "nbformat_minor": 4
}
