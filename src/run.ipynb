{
 "cells": [
  {
   "cell_type": "code",
   "execution_count": 1,
   "metadata": {},
   "outputs": [
    {
     "name": "stdout",
     "output_type": "stream",
     "text": [
      "CLEANING...\n",
      "CREATING DUMMIES...\n",
      "TRAINING...\n",
      "SCORING...\n",
      "Train test scores : 0.08160434621341568\n",
      "Test test scores : 0.40688859963548424 \n",
      "MODEL COMPLETE\n"
     ]
    }
   ],
   "source": [
    "'''\n",
    "This script reads a .csv file and generates the Compute Area Under the\n",
    "Receiver Operating Characteristic Curve (ROC AUC) results from prediction scores.\n",
    "'''\n",
    "\n",
    "from classfunc import *\n",
    "\n",
    "data_dir = 'sample_diabetes_mellitus_data.csv'\n",
    "\n",
    "# read dataframe\n",
    "df = read_data(data_dir)\n",
    "\n",
    "# clean dataframe\n",
    "print('CLEANING...')\n",
    "df_cleaned = drop_nan(df, ['age', 'gender', 'ethnicity'])\n",
    "df_cleaned = fill_nan(df_cleaned, ['height', 'weight'])\n",
    "\n",
    "# create one hot encoding and binary dummies\n",
    "print('CREATING DUMMIES...')\n",
    "df_cleaned_ohe = gen_ohe(df_cleaned, ['ethnicity'])\n",
    "df_cleaned_ohe_bin = gen_binary(df_cleaned_ohe, ['gender'])\n",
    "\n",
    "# train RandomForestClassifier model\n",
    "print('TRAINING...')\n",
    "feature_cols = ['age', 'height', 'weight', 'aids', 'cirrhosis', 'hepatic_failure', 'immunosuppression', 'leukemia', 'lymphoma', 'solid_tumor_with_metastasis']\n",
    "target_cols = ['diabetes_mellitus']\n",
    "results = train_model(df_cleaned_ohe_bin, feature_cols, target_cols)\n",
    "\n",
    "# get roc_auc score for train and test sets\n",
    "print('SCORING...')\n",
    "scores = get_roc_auc_score(results)\n",
    "\n",
    "# display results\n",
    "print('Train test scores : {}'.format(scores[0]))\n",
    "print('Test test scores : {} \\nMODEL COMPLETE'.format(scores[1]))\n"
   ]
  },
  {
   "cell_type": "code",
   "execution_count": null,
   "metadata": {},
   "outputs": [],
   "source": []
  }
 ],
 "metadata": {
  "kernelspec": {
   "display_name": "Python 3.8.10 ('.venv': venv)",
   "language": "python",
   "name": "python3"
  },
  "language_info": {
   "codemirror_mode": {
    "name": "ipython",
    "version": 3
   },
   "file_extension": ".py",
   "mimetype": "text/x-python",
   "name": "python",
   "nbconvert_exporter": "python",
   "pygments_lexer": "ipython3",
   "version": "3.8.10"
  },
  "vscode": {
   "interpreter": {
    "hash": "b6f49ba85018e89f7c54b5771786c8d00e0df137ba03b00f974b4a2e33dcc7e6"
   }
  }
 },
 "nbformat": 4,
 "nbformat_minor": 4
}
